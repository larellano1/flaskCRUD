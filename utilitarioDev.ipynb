{
 "cells": [
  {
   "cell_type": "code",
   "execution_count": 68,
   "metadata": {},
   "outputs": [],
   "source": [
    "import sqlite3\n",
    "conn = sqlite3.connect('dbTeste.sqlite')"
   ]
  },
  {
   "cell_type": "code",
   "execution_count": 9,
   "metadata": {},
   "outputs": [],
   "source": [
    "import numpy as np"
   ]
  },
  {
   "cell_type": "code",
   "execution_count": 19,
   "metadata": {},
   "outputs": [],
   "source": [
    "cur = conn.cursor()\n",
    "query = 'CREATE TABLE IF NOT EXISTS users (id INTEGER PRIMARY KEY AUTOINCREMENT, login TEXT NOT NULL\\\n",
    "    , email VARCHAR(50) NOT NULL, senha TEXT NOT NULL)'\n",
    "cur.execute(query)\n",
    "conn.commit()"
   ]
  },
  {
   "cell_type": "code",
   "execution_count": 24,
   "metadata": {},
   "outputs": [
    {
     "name": "stderr",
     "output_type": "stream",
     "text": [
      "C:\\Users\\d805664\\AppData\\Local\\Temp/ipykernel_8408/1073443178.py:2: DeprecationWarning: This function is deprecated. Please call randint(100000, 999999 + 1) instead\n",
      "  ['user1', 'user1@mail.com', str(np.random.random_integers(100000,999999))],\\\n",
      "C:\\Users\\d805664\\AppData\\Local\\Temp/ipykernel_8408/1073443178.py:3: DeprecationWarning: This function is deprecated. Please call randint(100000, 999999 + 1) instead\n",
      "  ['user2', 'user2@mail.com', str(np.random.random_integers(100000,999999))],\\\n",
      "C:\\Users\\d805664\\AppData\\Local\\Temp/ipykernel_8408/1073443178.py:4: DeprecationWarning: This function is deprecated. Please call randint(100000, 999999 + 1) instead\n",
      "  ['user3', 'user3@mail.com', str(np.random.random_integers(100000,999999))],\\\n",
      "C:\\Users\\d805664\\AppData\\Local\\Temp/ipykernel_8408/1073443178.py:5: DeprecationWarning: This function is deprecated. Please call randint(100000, 999999 + 1) instead\n",
      "  ['user4', 'user4@mail.com', str(np.random.random_integers(100000,999999))],\\\n",
      "C:\\Users\\d805664\\AppData\\Local\\Temp/ipykernel_8408/1073443178.py:6: DeprecationWarning: This function is deprecated. Please call randint(100000, 999999 + 1) instead\n",
      "  ['user5', 'user5@mail.com', str(np.random.random_integers(100000,999999))],\\\n",
      "C:\\Users\\d805664\\AppData\\Local\\Temp/ipykernel_8408/1073443178.py:7: DeprecationWarning: This function is deprecated. Please call randint(100000, 999999 + 1) instead\n",
      "  ['user6', 'user6@mail.com', str(np.random.random_integers(100000,999999))],\\\n",
      "C:\\Users\\d805664\\AppData\\Local\\Temp/ipykernel_8408/1073443178.py:8: DeprecationWarning: This function is deprecated. Please call randint(100000, 999999 + 1) instead\n",
      "  ['user7', 'user7@mail.com', str(np.random.random_integers(100000,999999))],\\\n",
      "C:\\Users\\d805664\\AppData\\Local\\Temp/ipykernel_8408/1073443178.py:9: DeprecationWarning: This function is deprecated. Please call randint(100000, 999999 + 1) instead\n",
      "  ['user8', 'user8@mail.com', str(np.random.random_integers(100000,999999))],\\\n",
      "C:\\Users\\d805664\\AppData\\Local\\Temp/ipykernel_8408/1073443178.py:10: DeprecationWarning: This function is deprecated. Please call randint(100000, 999999 + 1) instead\n",
      "  ['user9', 'user9@mail.com', str(np.random.random_integers(100000,999999))]\n"
     ]
    }
   ],
   "source": [
    "usuarios = [ \\\n",
    "    ['user1', 'user1@mail.com', str(np.random.random_integers(100000,999999))],\\\n",
    "    ['user2', 'user2@mail.com', str(np.random.random_integers(100000,999999))],\\\n",
    "    ['user3', 'user3@mail.com', str(np.random.random_integers(100000,999999))],\\\n",
    "    ['user4', 'user4@mail.com', str(np.random.random_integers(100000,999999))],\\\n",
    "    ['user5', 'user5@mail.com', str(np.random.random_integers(100000,999999))],\\\n",
    "    ['user6', 'user6@mail.com', str(np.random.random_integers(100000,999999))],\\\n",
    "    ['user7', 'user7@mail.com', str(np.random.random_integers(100000,999999))],\\\n",
    "    ['user8', 'user8@mail.com', str(np.random.random_integers(100000,999999))],\\\n",
    "    ['user9', 'user9@mail.com', str(np.random.random_integers(100000,999999))]\n",
    "        ]"
   ]
  },
  {
   "cell_type": "code",
   "execution_count": 25,
   "metadata": {},
   "outputs": [],
   "source": [
    "query = 'INSERT INTO users (login, email, senha) VALUES (?,?,?)'\n",
    "\n",
    "for row in usuarios:\n",
    "    cur.execute(query, row)\n",
    "conn.commit()"
   ]
  },
  {
   "cell_type": "code",
   "execution_count": 71,
   "metadata": {},
   "outputs": [
    {
     "data": {
      "text/plain": [
       "[(1, 'user1update', 'user1@mail.com', '771141'),\n",
       " (2, 'user2', 'user2@mail.com', '629109'),\n",
       " (3, 'user3', 'user3@mail.com', '772540'),\n",
       " (4, 'user4update', 'user4@mail.com', '102116'),\n",
       " (5, 'user5', 'user5@mail.com', '715391'),\n",
       " (6, 'user6', 'user6@mail.com', '248452'),\n",
       " (8, 'user8update', 'user8@mail.com', '131653'),\n",
       " (9, 'user9', 'user9@mail.com', '639036'),\n",
       " (10, 'user10update', 'user10@mail.com', '12345'),\n",
       " (11, 'user10', 'user10@mail.com', '12345'),\n",
       " (16, 'user12', 'user12@mail.com', '46546846'),\n",
       " (19, 'user15', 'user15@mail.com', '4568438438'),\n",
       " (21, 'user2', 'user2@gmail.com', '434384'),\n",
       " (22, 'user2', 'user2@gmail.com', '138484')]"
      ]
     },
     "execution_count": 71,
     "metadata": {},
     "output_type": "execute_result"
    }
   ],
   "source": [
    "query = 'SELECT * from users'\n",
    "cur = conn.cursor()\n",
    "cur.execute(query)\n",
    "cur.fetchall()"
   ]
  },
  {
   "cell_type": "code",
   "execution_count": 72,
   "metadata": {},
   "outputs": [
    {
     "data": {
      "text/plain": [
       "False"
      ]
     },
     "execution_count": 72,
     "metadata": {},
     "output_type": "execute_result"
    }
   ],
   "source": [
    "cur.execute(\"SELECT COUNT(*) FROM users WHERE login='user2'\")\n",
    "cur.fetchone()[0] == 0"
   ]
  },
  {
   "cell_type": "code",
   "execution_count": 67,
   "metadata": {},
   "outputs": [],
   "source": [
    "cur.close()\n",
    "conn.close()"
   ]
  },
  {
   "cell_type": "code",
   "execution_count": 2,
   "metadata": {},
   "outputs": [
    {
     "name": "stdout",
     "output_type": "stream",
     "text": [
      "DB conectado...\n"
     ]
    },
    {
     "ename": "ProgrammingError",
     "evalue": "Incorrect number of bindings supplied. The current statement uses 1, and there are 5 supplied.",
     "output_type": "error",
     "traceback": [
      "\u001b[1;31m---------------------------------------------------------------------------\u001b[0m",
      "\u001b[1;31mProgrammingError\u001b[0m                          Traceback (most recent call last)",
      "\u001b[1;32m~\\AppData\\Local\\Temp/ipykernel_12172/612741301.py\u001b[0m in \u001b[0;36m<module>\u001b[1;34m\u001b[0m\n\u001b[0;32m      1\u001b[0m \u001b[1;32mimport\u001b[0m \u001b[0mmyFuncs\u001b[0m\u001b[1;33m\u001b[0m\u001b[1;33m\u001b[0m\u001b[0m\n\u001b[1;32m----> 2\u001b[1;33m \u001b[0mmyFuncs\u001b[0m\u001b[1;33m.\u001b[0m\u001b[0mcheckLoginUnico\u001b[0m\u001b[1;33m(\u001b[0m\u001b[1;34m'user3'\u001b[0m\u001b[1;33m)\u001b[0m\u001b[1;33m\u001b[0m\u001b[1;33m\u001b[0m\u001b[0m\n\u001b[0m",
      "\u001b[1;32mc:\\Users\\d805664\\flaskCRUD\\myFuncs.py\u001b[0m in \u001b[0;36mcheckLoginUnico\u001b[1;34m(login)\u001b[0m\n\u001b[0;32m     86\u001b[0m         \u001b[0mconn\u001b[0m \u001b[1;33m=\u001b[0m \u001b[0mconectaDB\u001b[0m\u001b[1;33m(\u001b[0m\u001b[1;33m)\u001b[0m\u001b[1;33m\u001b[0m\u001b[1;33m\u001b[0m\u001b[0m\n\u001b[0;32m     87\u001b[0m         \u001b[0mcur\u001b[0m \u001b[1;33m=\u001b[0m \u001b[0mconn\u001b[0m\u001b[1;33m.\u001b[0m\u001b[0mcursor\u001b[0m\u001b[1;33m(\u001b[0m\u001b[1;33m)\u001b[0m\u001b[1;33m\u001b[0m\u001b[1;33m\u001b[0m\u001b[0m\n\u001b[1;32m---> 88\u001b[1;33m         \u001b[0mcur\u001b[0m\u001b[1;33m.\u001b[0m\u001b[0mexecute\u001b[0m\u001b[1;33m(\u001b[0m\u001b[1;34m\"SELECT COUNT(*) FROM users WHERE login=?\"\u001b[0m\u001b[1;33m,\u001b[0m \u001b[1;33m[\u001b[0m\u001b[0mlogin\u001b[0m\u001b[1;33m]\u001b[0m\u001b[1;33m)\u001b[0m\u001b[1;33m\u001b[0m\u001b[1;33m\u001b[0m\u001b[0m\n\u001b[0m\u001b[0;32m     89\u001b[0m         \u001b[0mnumIguais\u001b[0m \u001b[1;33m=\u001b[0m \u001b[0mcur\u001b[0m\u001b[1;33m.\u001b[0m\u001b[0mfetchone\u001b[0m\u001b[1;33m(\u001b[0m\u001b[1;33m)\u001b[0m\u001b[1;33m[\u001b[0m\u001b[1;36m0\u001b[0m\u001b[1;33m]\u001b[0m\u001b[1;33m\u001b[0m\u001b[1;33m\u001b[0m\u001b[0m\n\u001b[0;32m     90\u001b[0m         \u001b[0mprint\u001b[0m\u001b[1;33m(\u001b[0m\u001b[0mnumIguais\u001b[0m\u001b[1;33m)\u001b[0m\u001b[1;33m\u001b[0m\u001b[1;33m\u001b[0m\u001b[0m\n",
      "\u001b[1;31mProgrammingError\u001b[0m: Incorrect number of bindings supplied. The current statement uses 1, and there are 5 supplied."
     ]
    }
   ],
   "source": [
    "import myFuncs\n",
    "myFuncs.checkLoginUnico('user3')"
   ]
  }
 ],
 "metadata": {
  "interpreter": {
   "hash": "a91661f12a7660b06e20351efced8906dd873d64d83054476518fc14e81d5ff6"
  },
  "kernelspec": {
   "display_name": "Python 3.8.6 64-bit",
   "language": "python",
   "name": "python3"
  },
  "language_info": {
   "codemirror_mode": {
    "name": "ipython",
    "version": 3
   },
   "file_extension": ".py",
   "mimetype": "text/x-python",
   "name": "python",
   "nbconvert_exporter": "python",
   "pygments_lexer": "ipython3",
   "version": "3.8.6"
  },
  "orig_nbformat": 4
 },
 "nbformat": 4,
 "nbformat_minor": 2
}
