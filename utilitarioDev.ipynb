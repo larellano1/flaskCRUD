{
 "cells": [
  {
   "cell_type": "code",
   "execution_count": 1,
   "metadata": {},
   "outputs": [],
   "source": [
    "import sqlite3\n",
    "conn = sqlite3.connect('dbTeste.sqlite')"
   ]
  },
  {
   "cell_type": "code",
   "execution_count": 9,
   "metadata": {},
   "outputs": [],
   "source": [
    "import numpy as np"
   ]
  },
  {
   "cell_type": "code",
   "execution_count": 7,
   "metadata": {},
   "outputs": [
    {
     "data": {
      "text/plain": [
       "<sqlite3.Cursor at 0x80501f0>"
      ]
     },
     "execution_count": 7,
     "metadata": {},
     "output_type": "execute_result"
    }
   ],
   "source": [
    "cur = conn.cursor()\n",
    "query = 'CREATE TABLE IF NOT EXISTS users (id INTEGER PRIMARY KEY AUTOINCREMENT, login TEXT NOT NULL\\\n",
    "    , email VARCHAR(50) NOT NULL, senha TEXT NOT NULL)'\n",
    "cur.execute(query)"
   ]
  },
  {
   "cell_type": "code",
   "execution_count": 11,
   "metadata": {},
   "outputs": [
    {
     "name": "stderr",
     "output_type": "stream",
     "text": [
      "C:\\Users\\d805664\\AppData\\Local\\Temp/ipykernel_8408/1236295571.py:2: DeprecationWarning: This function is deprecated. Please call randint(100000, 999999 + 1) instead\n",
      "  ['user1', 'user1@mail.com', np.random.random_integers(100000,999999)],\\\n",
      "C:\\Users\\d805664\\AppData\\Local\\Temp/ipykernel_8408/1236295571.py:3: DeprecationWarning: This function is deprecated. Please call randint(100000, 999999 + 1) instead\n",
      "  ['user2', 'user2@mail.com', np.random.random_integers(100000,999999)],\\\n",
      "C:\\Users\\d805664\\AppData\\Local\\Temp/ipykernel_8408/1236295571.py:4: DeprecationWarning: This function is deprecated. Please call randint(100000, 999999 + 1) instead\n",
      "  ['user3', 'user3@mail.com', np.random.random_integers(100000,999999)],\\\n",
      "C:\\Users\\d805664\\AppData\\Local\\Temp/ipykernel_8408/1236295571.py:5: DeprecationWarning: This function is deprecated. Please call randint(100000, 999999 + 1) instead\n",
      "  ['user4', 'user4@mail.com', np.random.random_integers(100000,999999)],\\\n",
      "C:\\Users\\d805664\\AppData\\Local\\Temp/ipykernel_8408/1236295571.py:6: DeprecationWarning: This function is deprecated. Please call randint(100000, 999999 + 1) instead\n",
      "  ['user5', 'user5@mail.com', np.random.random_integers(100000,999999)],\\\n",
      "C:\\Users\\d805664\\AppData\\Local\\Temp/ipykernel_8408/1236295571.py:7: DeprecationWarning: This function is deprecated. Please call randint(100000, 999999 + 1) instead\n",
      "  ['user6', 'user6@mail.com', np.random.random_integers(100000,999999)],\\\n",
      "C:\\Users\\d805664\\AppData\\Local\\Temp/ipykernel_8408/1236295571.py:8: DeprecationWarning: This function is deprecated. Please call randint(100000, 999999 + 1) instead\n",
      "  ['user7', 'user7@mail.com', np.random.random_integers(100000,999999)],\\\n",
      "C:\\Users\\d805664\\AppData\\Local\\Temp/ipykernel_8408/1236295571.py:9: DeprecationWarning: This function is deprecated. Please call randint(100000, 999999 + 1) instead\n",
      "  ['user8', 'user8@mail.com', np.random.random_integers(100000,999999)],\\\n",
      "C:\\Users\\d805664\\AppData\\Local\\Temp/ipykernel_8408/1236295571.py:10: DeprecationWarning: This function is deprecated. Please call randint(100000, 999999 + 1) instead\n",
      "  ['user9', 'user9@mail.com', np.random.random_integers(100000,999999)]\n"
     ]
    }
   ],
   "source": [
    "usuarios = [\\\n",
    "    ['user1', 'user1@mail.com', np.random.random_integers(100000,999999)],\\\n",
    "    ['user2', 'user2@mail.com', np.random.random_integers(100000,999999)],\\\n",
    "    ['user3', 'user3@mail.com', np.random.random_integers(100000,999999)],\\\n",
    "    ['user4', 'user4@mail.com', np.random.random_integers(100000,999999)],\\\n",
    "    ['user5', 'user5@mail.com', np.random.random_integers(100000,999999)],\\\n",
    "    ['user6', 'user6@mail.com', np.random.random_integers(100000,999999)],\\\n",
    "    ['user7', 'user7@mail.com', np.random.random_integers(100000,999999)],\\\n",
    "    ['user8', 'user8@mail.com', np.random.random_integers(100000,999999)],\\\n",
    "    ['user9', 'user9@mail.com', np.random.random_integers(100000,999999)]\n",
    "        ]"
   ]
  },
  {
   "cell_type": "code",
   "execution_count": 12,
   "metadata": {},
   "outputs": [],
   "source": [
    "query = 'INSERT INTO users (login, email, senha) VALUES (?,?,?)'\n",
    "\n",
    "for row in usuarios:\n",
    "    cur.execute(query, row)"
   ]
  },
  {
   "cell_type": "code",
   "execution_count": 14,
   "metadata": {},
   "outputs": [
    {
     "name": "stdout",
     "output_type": "stream",
     "text": [
      "(1, 'user1', 'user1@mail.com', b'\\xecK\\x0e\\x00')\n",
      "(2, 'user2', 'user2@mail.com', b'p\\xef\\r\\x00')\n",
      "(3, 'user3', 'user3@mail.com', b'\\x18\\xfa\\x05\\x00')\n",
      "(4, 'user4', 'user4@mail.com', b'\\x9fB\\x08\\x00')\n",
      "(5, 'user5', 'user5@mail.com', b\"'p\\x03\\x00\")\n",
      "(6, 'user6', 'user6@mail.com', b'\\x8b\\xf0\\n\\x00')\n",
      "(7, 'user7', 'user7@mail.com', b'\\x1b\\xc4\\x06\\x00')\n",
      "(8, 'user8', 'user8@mail.com', b'\\xbe\\x0f\\x05\\x00')\n",
      "(9, 'user9', 'user9@mail.com', b'\\xbe5\\x08\\x00')\n"
     ]
    }
   ],
   "source": [
    "query = 'SELECT * from users'\n",
    "\n",
    "cur.execute(query)\n",
    "for row in cur.fetchall():\n",
    "    print(row)"
   ]
  }
 ],
 "metadata": {
  "interpreter": {
   "hash": "a91661f12a7660b06e20351efced8906dd873d64d83054476518fc14e81d5ff6"
  },
  "kernelspec": {
   "display_name": "Python 3.8.6 64-bit",
   "language": "python",
   "name": "python3"
  },
  "language_info": {
   "codemirror_mode": {
    "name": "ipython",
    "version": 3
   },
   "file_extension": ".py",
   "mimetype": "text/x-python",
   "name": "python",
   "nbconvert_exporter": "python",
   "pygments_lexer": "ipython3",
   "version": "3.8.6"
  },
  "orig_nbformat": 4
 },
 "nbformat": 4,
 "nbformat_minor": 2
}
